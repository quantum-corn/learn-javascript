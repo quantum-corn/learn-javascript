{
 "cells": [
  {
   "cell_type": "markdown",
   "metadata": {},
   "source": [
    "# Function\n",
    "\n",
    "---"
   ]
  },
  {
   "cell_type": "markdown",
   "metadata": {},
   "source": [
    "## Optional Arguments\n",
    "\n",
    "---\n",
    "\n",
    "It's possible to pass surplus parameters when calling a function.\n",
    "\n",
    "---"
   ]
  },
  {
   "cell_type": "code",
   "execution_count": 1,
   "metadata": {},
   "outputs": [
    {
     "name": "stdout",
     "output_type": "stream",
     "text": [
      "25\n"
     ]
    }
   ],
   "source": [
    "const square = function(x) {\n",
    "    return x*x;\n",
    "}\n",
    "console.log(square(5, false, \"schezwan_sauce\"));"
   ]
  },
  {
   "cell_type": "markdown",
   "metadata": {},
   "source": [
    "---\n",
    "\n",
    "Or to pass too few.\n",
    "\n",
    "---"
   ]
  },
  {
   "cell_type": "code",
   "execution_count": 2,
   "metadata": {},
   "outputs": [
    {
     "name": "stdout",
     "output_type": "stream",
     "text": [
      "-10\n",
      "-5\n"
     ]
    }
   ],
   "source": [
    "function minus(a, b){\n",
    "    if (b==undefined) return -a;\n",
    "    else return b-a;\n",
    "}\n",
    "\n",
    "console.log(minus(10));\n",
    "console.log(minus(10, 5));"
   ]
  },
  {
   "cell_type": "markdown",
   "metadata": {},
   "source": [
    "---\n",
    "\n",
    "Some arguments to a function can be made optional.\n",
    "\n",
    "---"
   ]
  },
  {
   "cell_type": "code",
   "execution_count": 5,
   "metadata": {},
   "outputs": [
    {
     "name": "stdout",
     "output_type": "stream",
     "text": [
      "16\n",
      "64\n"
     ]
    }
   ],
   "source": [
    "function power(base, exponent=2) {\n",
    "    let result=1;\n",
    "    for (let count=0; count<exponent; count++) {\n",
    "        result*=base;\n",
    "    }\n",
    "    return result;\n",
    "}\n",
    "\n",
    "console.log(power(4));\n",
    "console.log(power(2, 6));"
   ]
  },
  {
   "cell_type": "markdown",
   "metadata": {},
   "source": [
    "---\n",
    "\n",
    "## Closure\n",
    "\n",
    "---\n",
    "\n",
    "The feature of being able to refer to a fresh instance of the local bindings of a function body for every call to the function is called closure (in the sense of a property).\n",
    "\n",
    "Also, a function that refers to the local bindings around it is called a closure (in the sense of an element in the program).\n",
    "\n",
    "---"
   ]
  },
  {
   "cell_type": "markdown",
   "metadata": {},
   "source": [
    "This property enables us to write programs as shown below, which transcend the distinction between how value bindings and function bindings can be used.\n",
    "\n",
    "---"
   ]
  },
  {
   "cell_type": "code",
   "execution_count": 2,
   "metadata": {},
   "outputs": [],
   "source": [
    "function multiplier(factor) {\n",
    "    return number => number*factor;\n",
    "}"
   ]
  },
  {
   "cell_type": "code",
   "execution_count": 3,
   "metadata": {},
   "outputs": [
    {
     "name": "stdout",
     "output_type": "stream",
     "text": [
      "10\n"
     ]
    }
   ],
   "source": [
    "let twice=multiplier(2);\n",
    "console.log(twice(5));"
   ]
  },
  {
   "cell_type": "markdown",
   "metadata": {},
   "source": [
    "The way twice is a value which is actually a function is peculiar enough to seem disturbing at first glance and beautiful as the insight settles down.\n",
    "\n",
    "---\n",
    "---"
   ]
  }
 ],
 "metadata": {
  "kernelspec": {
   "display_name": "JavaScript (Node.js)",
   "language": "javascript",
   "name": "javascript"
  },
  "language_info": {
   "file_extension": ".js",
   "mimetype": "application/javascript",
   "name": "javascript",
   "version": "20.16.0"
  }
 },
 "nbformat": 4,
 "nbformat_minor": 2
}
