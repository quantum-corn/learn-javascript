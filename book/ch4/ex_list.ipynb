{
 "cells": [
  {
   "cell_type": "code",
   "execution_count": 1,
   "metadata": {},
   "outputs": [],
   "source": [
    "const arrayToList = function (arr) {\n",
    "    let list = null;\n",
    "    const len = arr.length;\n",
    "    for (var i = 0; i < len; i++) {\n",
    "        var item = arr.pop();\n",
    "        var newList = { value: item, rest: list };\n",
    "        list = newList;\n",
    "    }\n",
    "    return list;\n",
    "}"
   ]
  },
  {
   "cell_type": "code",
   "execution_count": 2,
   "metadata": {},
   "outputs": [],
   "source": [
    "const listToArray = function (list) {\n",
    "    var arr = [];\n",
    "    while (list!=null) {\n",
    "        arr.push(list.value);\n",
    "        list = list.rest;\n",
    "    }\n",
    "    return arr;\n",
    "}"
   ]
  },
  {
   "cell_type": "code",
   "execution_count": 3,
   "metadata": {},
   "outputs": [],
   "source": [
    "const prepend = function (list, item) {\n",
    "    return {value:item, rest:list};\n",
    "}"
   ]
  },
  {
   "cell_type": "code",
   "execution_count": 4,
   "metadata": {},
   "outputs": [],
   "source": [
    "const nth= function(list, num) {\n",
    "    if (list==null) return undefined;\n",
    "    else if (num==0) return list.value;\n",
    "    else return nth(list.rest, num-1);\n",
    "}"
   ]
  },
  {
   "cell_type": "code",
   "execution_count": 5,
   "metadata": {},
   "outputs": [
    {
     "name": "stdout",
     "output_type": "stream",
     "text": [
      "{ value: 1, rest: { value: 2, rest: { value: 3, rest: null } } } [ 1, 2, 3 ]\n",
      "1\n",
      "2\n",
      "3\n",
      "undefined\n",
      "undefined\n"
     ]
    }
   ],
   "source": [
    "arr=[1, 2, 3];\n",
    "var list=arrayToList(arr);\n",
    "var newArr=listToArray(list);\n",
    "console.log(list, newArr);\n",
    "console.log(nth(list, 0));\n",
    "console.log(nth(list, 1));\n",
    "console.log(nth(list, 2));\n",
    "console.log(nth(list, 3));\n",
    "console.log(nth(list, 4));\n"
   ]
  }
 ],
 "metadata": {
  "kernelspec": {
   "display_name": "JavaScript (Node.js)",
   "language": "javascript",
   "name": "javascript"
  },
  "language_info": {
   "name": "javascript"
  }
 },
 "nbformat": 4,
 "nbformat_minor": 2
}
