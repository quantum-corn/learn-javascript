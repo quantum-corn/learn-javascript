{
 "cells": [
  {
   "cell_type": "markdown",
   "metadata": {},
   "source": [
    "# Correlation\n",
    "\n",
    "---\n",
    "\n",
    "It is a basic correlation analysis. Since I have neer done statistics or correlation or anything like that, I'd like to keep it here.\n",
    "\n",
    "---\n",
    "\n",
    "## Math\n",
    "\n",
    "---\n",
    "\n",
    "We use **phi $(\\phi)$ coefficient**. We condense our data in a $2\\times2$ boolean frequency matrix F, where $F_{00}$ is count for a (false, false) combination for (effect, cause) ordered pair, $F_{01}$ for (false, true), $F_{10}$ for (true, false), $F_{11}$ for (true, true).\n",
    "\n",
    "Then we use the formula, $$\\phi=\\frac{F_{11}F_{00}-F_{10}F_{01}}{\\sqrt{F_{1\\cdot}F_{0\\cdot}F_{\\cdot1}F_{\\cdot0}}}$$\n",
    "\n",
    "This returns a value [-1,1], which tells the level of dependence of the cause on effect.\n",
    "\n",
    "---"
   ]
  },
  {
   "cell_type": "code",
   "execution_count": 10,
   "metadata": {},
   "outputs": [],
   "source": [
    "var JOURNAL = [\n",
    "    {\"events\":[\"carrot\",\"exercise\",\"weekend\"],\"squirrel\":false},\n",
    "    {\"events\":[\"bread\",\"pudding\",\"brushed teeth\",\"weekend\",\"touched tree\"],\"squirrel\":false},\n",
    "    {\"events\":[\"carrot\",\"nachos\",\"brushed teeth\",\"cycling\",\"weekend\"],\"squirrel\":false},\n",
    "    {\"events\":[\"brussel sprouts\",\"ice cream\",\"brushed teeth\",\"computer\",\"weekend\"],\"squirrel\":false},\n",
    "    {\"events\":[\"potatoes\",\"candy\",\"brushed teeth\",\"exercise\",\"weekend\",\"dentist\"],\"squirrel\":false},\n",
    "    {\"events\":[\"brussel sprouts\",\"pudding\",\"brushed teeth\",\"running\",\"weekend\"],\"squirrel\":false},\n",
    "    {\"events\":[\"pizza\",\"brushed teeth\",\"computer\",\"work\",\"touched tree\"],\"squirrel\":false},\n",
    "    {\"events\":[\"bread\",\"beer\",\"brushed teeth\",\"cycling\",\"work\"],\"squirrel\":false},\n",
    "    {\"events\":[\"cauliflower\",\"brushed teeth\",\"work\"],\"squirrel\":false},\n",
    "    {\"events\":[\"pizza\",\"brushed teeth\",\"cycling\",\"work\"],\"squirrel\":false},\n",
    "    {\"events\":[\"lasagna\",\"nachos\",\"brushed teeth\",\"work\"],\"squirrel\":false},\n",
    "    {\"events\":[\"brushed teeth\",\"weekend\",\"touched tree\"],\"squirrel\":false},\n",
    "    {\"events\":[\"lettuce\",\"brushed teeth\",\"television\",\"weekend\"],\"squirrel\":false},\n",
    "    {\"events\":[\"spaghetti\",\"brushed teeth\",\"work\"],\"squirrel\":false},\n",
    "    {\"events\":[\"brushed teeth\",\"computer\",\"work\"],\"squirrel\":false},\n",
    "    {\"events\":[\"lettuce\",\"nachos\",\"brushed teeth\",\"work\"],\"squirrel\":false},\n",
    "    {\"events\":[\"carrot\",\"brushed teeth\",\"running\",\"work\"],\"squirrel\":false},\n",
    "    {\"events\":[\"brushed teeth\",\"work\"],\"squirrel\":false},\n",
    "    {\"events\":[\"cauliflower\",\"reading\",\"weekend\"],\"squirrel\":false},\n",
    "    {\"events\":[\"bread\",\"brushed teeth\",\"weekend\"],\"squirrel\":false},\n",
    "    {\"events\":[\"lasagna\",\"brushed teeth\",\"exercise\",\"work\"],\"squirrel\":false},\n",
    "    {\"events\":[\"spaghetti\",\"brushed teeth\",\"reading\",\"work\"],\"squirrel\":false},\n",
    "    {\"events\":[\"carrot\",\"ice cream\",\"brushed teeth\",\"television\",\"work\"],\"squirrel\":false},\n",
    "    {\"events\":[\"spaghetti\",\"nachos\",\"work\"],\"squirrel\":false},\n",
    "    {\"events\":[\"cauliflower\",\"ice cream\",\"brushed teeth\",\"cycling\",\"work\"],\"squirrel\":false},\n",
    "    {\"events\":[\"spaghetti\",\"peanuts\",\"computer\",\"weekend\"],\"squirrel\":true},\n",
    "    {\"events\":[\"potatoes\",\"ice cream\",\"brushed teeth\",\"computer\",\"weekend\"],\"squirrel\":false},\n",
    "    {\"events\":[\"potatoes\",\"ice cream\",\"brushed teeth\",\"work\"],\"squirrel\":false},\n",
    "    {\"events\":[\"peanuts\",\"brushed teeth\",\"running\",\"work\"],\"squirrel\":false},\n",
    "    {\"events\":[\"potatoes\",\"exercise\",\"work\"],\"squirrel\":false},\n",
    "    {\"events\":[\"pizza\",\"ice cream\",\"computer\",\"work\"],\"squirrel\":false},\n",
    "    {\"events\":[\"lasagna\",\"ice cream\",\"work\"],\"squirrel\":false},\n",
    "    {\"events\":[\"cauliflower\",\"candy\",\"reading\",\"weekend\"],\"squirrel\":false},\n",
    "    {\"events\":[\"lasagna\",\"nachos\",\"brushed teeth\",\"running\",\"weekend\"],\"squirrel\":false},\n",
    "    {\"events\":[\"potatoes\",\"brushed teeth\",\"work\"],\"squirrel\":false},\n",
    "    {\"events\":[\"carrot\",\"work\"],\"squirrel\":false},\n",
    "    {\"events\":[\"pizza\",\"beer\",\"work\",\"dentist\"],\"squirrel\":false},\n",
    "    {\"events\":[\"lasagna\",\"pudding\",\"cycling\",\"work\"],\"squirrel\":false},\n",
    "    {\"events\":[\"spaghetti\",\"brushed teeth\",\"reading\",\"work\"],\"squirrel\":false},\n",
    "    {\"events\":[\"spaghetti\",\"pudding\",\"television\",\"weekend\"],\"squirrel\":false},\n",
    "    {\"events\":[\"bread\",\"brushed teeth\",\"exercise\",\"weekend\"],\"squirrel\":false},\n",
    "    {\"events\":[\"lasagna\",\"peanuts\",\"work\"],\"squirrel\":true},\n",
    "    {\"events\":[\"pizza\",\"work\"],\"squirrel\":false},\n",
    "    {\"events\":[\"potatoes\",\"exercise\",\"work\"],\"squirrel\":false},\n",
    "    {\"events\":[\"brushed teeth\",\"exercise\",\"work\"],\"squirrel\":false},\n",
    "    {\"events\":[\"spaghetti\",\"brushed teeth\",\"television\",\"work\"],\"squirrel\":false},\n",
    "    {\"events\":[\"pizza\",\"cycling\",\"weekend\"],\"squirrel\":false},\n",
    "    {\"events\":[\"carrot\",\"brushed teeth\",\"weekend\"],\"squirrel\":false},\n",
    "    {\"events\":[\"carrot\",\"beer\",\"brushed teeth\",\"work\"],\"squirrel\":false},\n",
    "    {\"events\":[\"pizza\",\"peanuts\",\"candy\",\"work\"],\"squirrel\":true},\n",
    "    {\"events\":[\"carrot\",\"peanuts\",\"brushed teeth\",\"reading\",\"work\"],\"squirrel\":false},\n",
    "    {\"events\":[\"potatoes\",\"peanuts\",\"brushed teeth\",\"work\"],\"squirrel\":false},\n",
    "    {\"events\":[\"carrot\",\"nachos\",\"brushed teeth\",\"exercise\",\"work\"],\"squirrel\":false},\n",
    "    {\"events\":[\"pizza\",\"peanuts\",\"brushed teeth\",\"television\",\"weekend\"],\"squirrel\":false},\n",
    "    {\"events\":[\"lasagna\",\"brushed teeth\",\"cycling\",\"weekend\"],\"squirrel\":false},\n",
    "    {\"events\":[\"cauliflower\",\"peanuts\",\"brushed teeth\",\"computer\",\"work\",\"touched tree\"],\"squirrel\":false},\n",
    "    {\"events\":[\"lettuce\",\"brushed teeth\",\"television\",\"work\"],\"squirrel\":false},\n",
    "    {\"events\":[\"potatoes\",\"brushed teeth\",\"computer\",\"work\"],\"squirrel\":false},\n",
    "    {\"events\":[\"bread\",\"candy\",\"work\"],\"squirrel\":false},\n",
    "    {\"events\":[\"potatoes\",\"nachos\",\"work\"],\"squirrel\":false},\n",
    "    {\"events\":[\"carrot\",\"pudding\",\"brushed teeth\",\"weekend\"],\"squirrel\":false},\n",
    "    {\"events\":[\"carrot\",\"brushed teeth\",\"exercise\",\"weekend\",\"touched tree\"],\"squirrel\":false},\n",
    "    {\"events\":[\"brussel sprouts\",\"running\",\"work\"],\"squirrel\":false},\n",
    "    {\"events\":[\"brushed teeth\",\"work\"],\"squirrel\":false},\n",
    "    {\"events\":[\"lettuce\",\"brushed teeth\",\"running\",\"work\"],\"squirrel\":false},\n",
    "    {\"events\":[\"candy\",\"brushed teeth\",\"work\"],\"squirrel\":false},\n",
    "    {\"events\":[\"brussel sprouts\",\"brushed teeth\",\"computer\",\"work\"],\"squirrel\":false},\n",
    "    {\"events\":[\"bread\",\"brushed teeth\",\"weekend\"],\"squirrel\":false},\n",
    "    {\"events\":[\"cauliflower\",\"brushed teeth\",\"weekend\"],\"squirrel\":false},\n",
    "    {\"events\":[\"spaghetti\",\"candy\",\"television\",\"work\",\"touched tree\"],\"squirrel\":false},\n",
    "    {\"events\":[\"carrot\",\"pudding\",\"brushed teeth\",\"work\"],\"squirrel\":false},\n",
    "    {\"events\":[\"lettuce\",\"brushed teeth\",\"work\"],\"squirrel\":false},\n",
    "    {\"events\":[\"carrot\",\"ice cream\",\"brushed teeth\",\"cycling\",\"work\"],\"squirrel\":false},\n",
    "    {\"events\":[\"pizza\",\"brushed teeth\",\"work\"],\"squirrel\":false},\n",
    "    {\"events\":[\"spaghetti\",\"peanuts\",\"exercise\",\"weekend\"],\"squirrel\":true},\n",
    "    {\"events\":[\"bread\",\"beer\",\"computer\",\"weekend\",\"touched tree\"],\"squirrel\":false},\n",
    "    {\"events\":[\"brushed teeth\",\"running\",\"work\"],\"squirrel\":false},\n",
    "    {\"events\":[\"lettuce\",\"peanuts\",\"brushed teeth\",\"work\",\"touched tree\"],\"squirrel\":false},\n",
    "    {\"events\":[\"lasagna\",\"brushed teeth\",\"television\",\"work\"],\"squirrel\":false},\n",
    "    {\"events\":[\"cauliflower\",\"brushed teeth\",\"running\",\"work\"],\"squirrel\":false},\n",
    "    {\"events\":[\"carrot\",\"brushed teeth\",\"running\",\"work\"],\"squirrel\":false},\n",
    "    {\"events\":[\"carrot\",\"reading\",\"weekend\"],\"squirrel\":false},\n",
    "    {\"events\":[\"carrot\",\"peanuts\",\"reading\",\"weekend\"],\"squirrel\":true},\n",
    "    {\"events\":[\"potatoes\",\"brushed teeth\",\"running\",\"work\"],\"squirrel\":false},\n",
    "    {\"events\":[\"lasagna\",\"ice cream\",\"work\",\"touched tree\"],\"squirrel\":false},\n",
    "    {\"events\":[\"cauliflower\",\"peanuts\",\"brushed teeth\",\"cycling\",\"work\"],\"squirrel\":false},\n",
    "    {\"events\":[\"pizza\",\"brushed teeth\",\"running\",\"work\"],\"squirrel\":false},\n",
    "    {\"events\":[\"lettuce\",\"brushed teeth\",\"work\"],\"squirrel\":false},\n",
    "    {\"events\":[\"bread\",\"brushed teeth\",\"television\",\"weekend\"],\"squirrel\":false},\n",
    "    {\"events\":[\"cauliflower\",\"peanuts\",\"brushed teeth\",\"weekend\"],\"squirrel\":false}\n",
    "  ];"
   ]
  },
  {
   "cell_type": "code",
   "execution_count": 11,
   "metadata": {},
   "outputs": [],
   "source": [
    "function tableFor(event, journal) {\n",
    "    let table=[[0, 0], [0, 0]];\n",
    "    for (let i=0; i<journal.length; i++) {\n",
    "        let entry=journal[i];\n",
    "        let cause=0, effect=0;\n",
    "        if(entry.events.includes(event)) cause=1;\n",
    "        if(entry.squirrel) effect=1;\n",
    "        table[effect][cause]++;\n",
    "    }\n",
    "    return table;\n",
    "}"
   ]
  },
  {
   "cell_type": "code",
   "execution_count": 21,
   "metadata": {},
   "outputs": [],
   "source": [
    "function phi(F) {\n",
    "    return (F[0][0]*F[1][1]-F[1][0]*F[0][1])/\n",
    "    Math.sqrt((F[1][0]+F[1][1])*\n",
    "              (F[0][0]+F[0][1])*\n",
    "              (F[1][0]+F[0][0])*\n",
    "              (F[1][1]+F[0][1]));\n",
    "}"
   ]
  },
  {
   "cell_type": "code",
   "execution_count": 23,
   "metadata": {},
   "outputs": [],
   "source": [
    "function journalEvents(journal){\n",
    "    let events =[];\n",
    "    for(let entry of journal){\n",
    "        for (let event of entry.events) {\n",
    "            if(!events.includes(event)) {\n",
    "                events.push(event);\n",
    "            }\n",
    "        }\n",
    "    }\n",
    "    return events;\n",
    "}"
   ]
  },
  {
   "cell_type": "code",
   "execution_count": 25,
   "metadata": {},
   "outputs": [
    {
     "name": "stdout",
     "output_type": "stream",
     "text": [
      "weekend: \t 0.13719886811400708\n",
      "brushed teeth: \t -0.3805211953235953\n",
      "candy: \t 0.12964074471043288\n",
      "work: \t -0.13719886811400708\n",
      "spaghetti: \t 0.242535625036333\n",
      "reading: \t 0.11068280537595927\n",
      "peanuts: \t 0.59026798116852\n"
     ]
    }
   ],
   "source": [
    "for(let event of journalEvents(JOURNAL)) {\n",
    "    let correlation=phi(tableFor(event, JOURNAL));\n",
    "    if(correlation>0.1||correlation<-0.1){\n",
    "        console.log(event+':','\\t', correlation);\n",
    "    }\n",
    "}"
   ]
  },
  {
   "cell_type": "code",
   "execution_count": 26,
   "metadata": {},
   "outputs": [
    {
     "name": "stdout",
     "output_type": "stream",
     "text": [
      "1\n"
     ]
    }
   ],
   "source": [
    "for(let entry of JOURNAL) {\n",
    "    if (entry.events.includes('peanuts')&&\n",
    "       !entry.events.includes('brushed teeth')){\n",
    "        entry.events.push('peanut teeth');\n",
    "       }\n",
    "}\n",
    "console.log(phi(tableFor('peanut teeth', JOURNAL)));"
   ]
  }
 ],
 "metadata": {
  "kernelspec": {
   "display_name": "JavaScript (Node.js)",
   "language": "javascript",
   "name": "javascript"
  },
  "language_info": {
   "file_extension": ".js",
   "mimetype": "application/javascript",
   "name": "javascript",
   "version": "20.16.0"
  }
 },
 "nbformat": 4,
 "nbformat_minor": 2
}
