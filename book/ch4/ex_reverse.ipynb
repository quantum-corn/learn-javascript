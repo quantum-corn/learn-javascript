{
 "cells": [
  {
   "cell_type": "code",
   "execution_count": 1,
   "metadata": {},
   "outputs": [],
   "source": [
    "const reverseArray= function(arr){\n",
    "    var newArr=[];\n",
    "    for(item of arr){\n",
    "        newArr.unshift(item);\n",
    "    }\n",
    "    return newArr;\n",
    "}"
   ]
  },
  {
   "cell_type": "code",
   "execution_count": 2,
   "metadata": {},
   "outputs": [],
   "source": [
    "const reverseArrayInPlace = function (arr) {\n",
    "    const len=arr.length;\n",
    "    for (var i = 0; i < len / 2; i++){\n",
    "        var temp = arr[i];\n",
    "        arr[i] = arr[len - i - 1];\n",
    "        arr[len - i - 1] = temp;\n",
    "    }\n",
    "}"
   ]
  },
  {
   "cell_type": "code",
   "execution_count": 5,
   "metadata": {},
   "outputs": [
    {
     "name": "stdout",
     "output_type": "stream",
     "text": [
      "[\n",
      "  10, 9, 8, 7, 6,\n",
      "   5, 4, 3, 2, 1,\n",
      "   0\n",
      "]\n",
      "[\n",
      "  10, 9, 8, 7, 6,\n",
      "   5, 4, 3, 2, 1,\n",
      "   0\n",
      "]\n"
     ]
    }
   ],
   "source": [
    "var arr=[0, 1, 2, 3, 4 , 5, 6, 7, 8, 9, 10];\n",
    "console.log(reverseArray(arr));\n",
    "reverseArrayInPlace(arr);\n",
    "console.log(arr);"
   ]
  }
 ],
 "metadata": {
  "kernelspec": {
   "display_name": "JavaScript (Node.js)",
   "language": "javascript",
   "name": "javascript"
  },
  "language_info": {
   "file_extension": ".js",
   "mimetype": "application/javascript",
   "name": "javascript",
   "version": "20.16.0"
  }
 },
 "nbformat": 4,
 "nbformat_minor": 2
}
