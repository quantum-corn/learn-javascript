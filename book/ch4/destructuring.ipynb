{
 "cells": [
  {
   "cell_type": "markdown",
   "metadata": {},
   "source": [
    "# Destructuring\n",
    "\n",
    "---\n",
    "\n",
    "If you know the structure of the value in a binding, you can *look into* it. Consider the examples:\n",
    "\n",
    "---"
   ]
  },
  {
   "cell_type": "code",
   "execution_count": 1,
   "metadata": {},
   "outputs": [
    {
     "name": "stdout",
     "output_type": "stream",
     "text": [
      "hahaha\n"
     ]
    }
   ],
   "source": [
    "function repeater([string, number]) {\n",
    "    return string.repeat(number);\n",
    "}\n",
    "\n",
    "task=['ha', 3];\n",
    "console.log(repeater(task));"
   ]
  },
  {
   "cell_type": "code",
   "execution_count": 6,
   "metadata": {},
   "outputs": [
    {
     "name": "stdout",
     "output_type": "stream",
     "text": [
      "hahaha\n"
     ]
    }
   ],
   "source": [
    "function repeater({string, number}) {\n",
    "    return string.repeat(number);\n",
    "}\n",
    "\n",
    "task={string:'ha',\n",
    "    number:3\n",
    "};\n",
    "console.log(repeater(task));"
   ]
  },
  {
   "cell_type": "markdown",
   "metadata": {},
   "source": [
    "---\n",
    "---"
   ]
  }
 ],
 "metadata": {
  "kernelspec": {
   "display_name": "JavaScript (Node.js)",
   "language": "javascript",
   "name": "javascript"
  },
  "language_info": {
   "file_extension": ".js",
   "mimetype": "application/javascript",
   "name": "javascript",
   "version": "20.16.0"
  }
 },
 "nbformat": 4,
 "nbformat_minor": 2
}
