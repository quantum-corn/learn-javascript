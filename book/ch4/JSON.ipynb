{
 "cells": [
  {
   "cell_type": "markdown",
   "metadata": {},
   "source": [
    "# JSON\n",
    "\n",
    "---\n",
    "\n",
    "JSON is a format to store and communicate data such as objects, arrays and what not.\n",
    "\n",
    "`JSON.stringify()` to take a data and convert it into JSON formatted string. Use it to store in a file or whatever.\n",
    "\n",
    "`JSON.parse()` does the opposite. It takes a string and stores in memory the data there.\n",
    "\n",
    "---\n",
    "---\n"
   ]
  }
 ],
 "metadata": {
  "language_info": {
   "name": "python"
  }
 },
 "nbformat": 4,
 "nbformat_minor": 2
}
