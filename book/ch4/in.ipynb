{
 "cells": [
  {
   "cell_type": "markdown",
   "metadata": {},
   "source": [
    "# `in` operator\n",
    "\n",
    "---\n",
    "\n",
    "It returns a boolen value depending on whether the property to its left is present in the object to its right.\n",
    "\n",
    "---"
   ]
  },
  {
   "cell_type": "code",
   "execution_count": 2,
   "metadata": {},
   "outputs": [
    {
     "name": "stdout",
     "output_type": "stream",
     "text": [
      "true\n",
      "false\n",
      "true\n"
     ]
    }
   ],
   "source": [
    "let obj={\n",
    "    name:'quantum-corn',\n",
    "    age:'sweet 27',\n",
    "    employment:'unemployed'\n",
    "};\n",
    "let arr=[10, 9, 8, 7, 6];\n",
    "console.log(\"name\" in obj);\n",
    "console.log(10 in arr);\n",
    "console.log(1 in arr);"
   ]
  },
  {
   "cell_type": "markdown",
   "metadata": {},
   "source": [
    "---\n",
    "\n",
    "In the two cases above involving the array `arr`, the first is false since even thought 10 as a value is in arr, but value is not a property whereas, the second is true because 1 is a valid index in arr and therefore a valid property i.e. array indices are valid property with the value being the value stored therein.\n",
    "\n",
    "---"
   ]
  },
  {
   "cell_type": "markdown",
   "metadata": {},
   "source": [
    "# `for`-`in` loop\n",
    "\n",
    "---\n",
    "\n",
    "`in` can be used in for loop, in a way similar to `of`. The difference is, `in` returns to the coounter variable, a property i.e. key, every iteration.\n",
    "\n",
    "---\n"
   ]
  },
  {
   "cell_type": "code",
   "execution_count": 6,
   "metadata": {},
   "outputs": [
    {
     "name": "stdout",
     "output_type": "stream",
     "text": [
      "name\n",
      "age\n",
      "employment\n",
      "0 10\n",
      "1 9\n",
      "2 8\n",
      "3 7\n",
      "4 6\n"
     ]
    }
   ],
   "source": [
    "for(entry in obj){\n",
    "    console.log(entry);\n",
    "}\n",
    "\n",
    "for(item in arr){\n",
    "    console.log(item,arr[item]);\n",
    "}"
   ]
  },
  {
   "cell_type": "markdown",
   "metadata": {},
   "source": [
    "---\n",
    "---"
   ]
  }
 ],
 "metadata": {
  "kernelspec": {
   "display_name": "JavaScript (Node.js)",
   "language": "javascript",
   "name": "javascript"
  },
  "language_info": {
   "file_extension": ".js",
   "mimetype": "application/javascript",
   "name": "javascript",
   "version": "20.16.0"
  }
 },
 "nbformat": 4,
 "nbformat_minor": 2
}
