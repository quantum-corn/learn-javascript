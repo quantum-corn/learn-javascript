{
 "cells": [
  {
   "cell_type": "markdown",
   "metadata": {},
   "source": [
    "# Rest parameters\n",
    "\n",
    "---\n",
    "\n",
    "To enable fucntions to accept all the arguments it is given, by adding 3 dots before the last parameter. This is bound to an array. These are rest parameters.\n",
    "\n",
    "When used in a function call, this, called a spread operator, is used to spread out an array.\n",
    "\n",
    "---"
   ]
  }
 ],
 "metadata": {
  "language_info": {
   "name": "python"
  }
 },
 "nbformat": 4,
 "nbformat_minor": 2
}
