{
 "cells": [
  {
   "cell_type": "markdown",
   "metadata": {},
   "source": [
    "# Arrays\n",
    "\n",
    "---\n",
    "\n",
    "Here are some stuff about arrays that are beyond the basic know how.\n",
    "\n",
    "---"
   ]
  },
  {
   "cell_type": "markdown",
   "metadata": {
    "vscode": {
     "languageId": "plaintext"
    }
   },
   "source": [
    "## `pop`, `push`, `shift`, `unshift`\n",
    "\n",
    "---\n",
    "\n",
    "||add|extract|\n",
    "|-|-|-|\n",
    "|start|`unshift`|`shift`|\n",
    "|end|`push`|`pop`|\n",
    "\n",
    "---\n",
    "---"
   ]
  }
 ],
 "metadata": {
  "language_info": {
   "name": "python"
  }
 },
 "nbformat": 4,
 "nbformat_minor": 2
}
