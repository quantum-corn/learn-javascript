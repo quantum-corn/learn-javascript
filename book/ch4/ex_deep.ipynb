{
 "cells": [
  {
   "cell_type": "code",
   "execution_count": 1,
   "metadata": {},
   "outputs": [],
   "source": [
    "const deepEqual = function (item1, item2) {\n",
    "    if (item1 == null) {\n",
    "        if (item2 == null) return true;\n",
    "        else return false;\n",
    "    }\n",
    "    else if (typeof item1 != 'object') {\n",
    "        if (item1 === item2) return true;\n",
    "        else return false;    \n",
    "    }\n",
    "    else {\n",
    "    var keys1 = Object.keys(item1);\n",
    "    var keys2 = Object.keys(item2);\n",
    "    if (keys1.length != keys2.length) return false;\n",
    "    else {\n",
    "        for (var entry of keys1) {\n",
    "            if (!keys2.includes(entry)) return false;\n",
    "            else continue;\n",
    "        }\n",
    "        for (entry of keys1) {\n",
    "            if (!(item1[entry] == item2[entry])) return false;\n",
    "            else continue;\n",
    "        }\n",
    "        return true;\n",
    "    }\n",
    "    }\n",
    "}"
   ]
  },
  {
   "cell_type": "code",
   "execution_count": 2,
   "metadata": {},
   "outputs": [
    {
     "name": "stdout",
     "output_type": "stream",
     "text": [
      "apple banana false\n",
      "false\n"
     ]
    }
   ],
   "source": [
    "console.log(deepEqual({name:'apple'}, {name:'banana'}));"
   ]
  }
 ],
 "metadata": {
  "kernelspec": {
   "display_name": "JavaScript (Node.js)",
   "language": "javascript",
   "name": "javascript"
  },
  "language_info": {
   "file_extension": ".js",
   "mimetype": "application/javascript",
   "name": "javascript",
   "version": "20.16.0"
  }
 },
 "nbformat": 4,
 "nbformat_minor": 2
}
