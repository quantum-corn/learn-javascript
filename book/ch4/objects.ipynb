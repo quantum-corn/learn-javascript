{
 "cells": [
  {
   "cell_type": "markdown",
   "metadata": {},
   "source": [
    "# Objects\n",
    "\n",
    "---\n",
    "\n",
    "Here is a list of some peculiar stuff related to objects.\n",
    "\n",
    "---"
   ]
  },
  {
   "cell_type": "markdown",
   "metadata": {},
   "source": [
    "## `delete`\n",
    "\n",
    "---\n",
    "\n",
    "Use this to delete property from objects.\n",
    "\n",
    "---"
   ]
  },
  {
   "cell_type": "code",
   "execution_count": 1,
   "metadata": {},
   "outputs": [
    {
     "name": "stdout",
     "output_type": "stream",
     "text": [
      "{ left: true, right: false, centre: 50 }\n",
      "{ left: true, right: false }\n"
     ]
    }
   ],
   "source": [
    "let anObject = {\n",
    "    left:true,\n",
    "    right:false,\n",
    "    centre:50\n",
    "};\n",
    "console.log(anObject);\n",
    "delete anObject.centre;\n",
    "console.log(anObject);"
   ]
  },
  {
   "cell_type": "markdown",
   "metadata": {},
   "source": [
    "---\n",
    "\n",
    "## `Object.keys()`\n",
    "\n",
    "---\n",
    "\n",
    "Use this to get an array of strings each of which is a property of the object passed as argument to the function call.\n",
    "\n",
    "---"
   ]
  },
  {
   "cell_type": "code",
   "execution_count": 2,
   "metadata": {},
   "outputs": [
    {
     "name": "stdout",
     "output_type": "stream",
     "text": [
      "[ 'left', 'right' ]\n"
     ]
    }
   ],
   "source": [
    "console.log(Object.keys(anObject));"
   ]
  },
  {
   "cell_type": "markdown",
   "metadata": {},
   "source": [
    "---\n",
    "\n",
    "## Object.assign()\n",
    "\n",
    "---\n",
    "\n",
    "Use this to copy one object's properties to another object.\n",
    "\n",
    "---"
   ]
  },
  {
   "cell_type": "code",
   "execution_count": 1,
   "metadata": {},
   "outputs": [
    {
     "name": "stdout",
     "output_type": "stream",
     "text": [
      "{ a: 1, b: 3, c: 4 }\n"
     ]
    }
   ],
   "source": [
    "let objectA = {a:1, b:2};\n",
    "Object.assign(objectA, {b:3, c:4});\n",
    "console.log(objectA);"
   ]
  },
  {
   "cell_type": "markdown",
   "metadata": {},
   "source": [
    "---\n",
    "\n",
    "## Tangibility of objects\n",
    "\n",
    "---\n",
    "\n",
    "Objects have a sense of existence which is not restricted to the value of their properties. Consider the following examples.\n",
    "\n",
    "---"
   ]
  },
  {
   "cell_type": "code",
   "execution_count": 2,
   "metadata": {},
   "outputs": [
    {
     "name": "stdout",
     "output_type": "stream",
     "text": [
      "true\n",
      "false\n",
      "{ fruit: 'apple', count: 12 }\n",
      "{ fruit: 'apple', count: 12 }\n"
     ]
    }
   ],
   "source": [
    "let obj1= {\n",
    "    fruit:'apple',\n",
    "    count:6\n",
    "};\n",
    "let obj2=obj1;\n",
    "let obj3= {\n",
    "    fruit:'apple',\n",
    "    count:6\n",
    "};\n",
    "console.log(obj1==obj2);\n",
    "console.log(obj1==obj3);\n",
    "obj2.count=12;\n",
    "console.log(obj1);\n",
    "console.log(obj2);"
   ]
  },
  {
   "cell_type": "markdown",
   "metadata": {},
   "source": [
    "---\n",
    "\n",
    "It is extremely important to notice in the first pair of outputs that values being equal and objects being equal are different things. Then, in the second pair of outputs, we see that two objects that are equal don't just have same values, but are literally same tangible objects. Let it sink in.\n",
    "\n",
    "---"
   ]
  }
 ],
 "metadata": {
  "kernelspec": {
   "display_name": "JavaScript (Node.js)",
   "language": "javascript",
   "name": "javascript"
  },
  "language_info": {
   "file_extension": ".js",
   "mimetype": "application/javascript",
   "name": "javascript",
   "version": "20.16.0"
  }
 },
 "nbformat": 4,
 "nbformat_minor": 2
}
