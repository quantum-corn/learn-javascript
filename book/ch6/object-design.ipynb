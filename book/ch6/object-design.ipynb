{
 "cells": [
  {
   "cell_type": "markdown",
   "metadata": {},
   "source": [
    "# Object\n",
    "\n",
    "---\n",
    "\n",
    "Here we learn to use objects as more than data structures, and more like program design structure building blocks, which is what we call *Object Oriented Programming*. What sets this apart from usual objects is the use property bindings to hold function values. These are called methods.\n",
    "\n",
    "---\n",
    "\n",
    "## Methods\n",
    "\n",
    "---\n",
    "\n",
    "Very much like usual functions. Except:\n",
    "- Called as methods using the syntax\n",
    "  > object.method()\n",
    "- When called this way, the scope inside the method has access to a binding called `this` which points to the object on which the method is called.\n",
    "- Another way to call it is using `call()` method. Note that this is a method of the function - which again is an object in the language design - goes to show how deep object orientation has penetrated the programming landscape. The call method takes the object on which to call the function, and the parameters that the function requires. Here is the syntax:\n",
    "  > `function.call(object, parameter1, ...)`\n",
    "- Arrow function are different in the sense that they do not have any `this`, but can access the this from the scope in which it resides. **This is especially important when there is a need to use the this inside a nested function. See example.**\n",
    "\n",
    "---"
   ]
  },
  {
   "cell_type": "code",
   "execution_count": 1,
   "metadata": {},
   "outputs": [
    {
     "name": "stdout",
     "output_type": "stream",
     "text": [
      "[ 0, 0.4, 0.6 ]\n"
     ]
    }
   ],
   "source": [
    "function normalize(){\n",
    "    console.log(this.coords.map(n=>n/this.length));\n",
    "\n",
    "}\n",
    "normalize.call({coords:[0, 2, 3], length:5});"
   ]
  },
  {
   "cell_type": "markdown",
   "metadata": {},
   "source": [
    "---\n",
    "\n",
    "In the example, `this` inside normalize refers to the objects passed during calling normalize. Inside the arrow function `this` refers to the same but if were are function other than arrow function, `this` would have referred to the object on which that function was called.\n",
    "\n",
    "---"
   ]
  },
  {
   "cell_type": "markdown",
   "metadata": {},
   "source": [
    "# Prototype\n",
    "\n",
    "---\n",
    "\n",
    "Prototypes are blueprints upon which objects are made. Among other things, objects inherit the properties of the prototypes. `Object.getPrototypeOf()` method returns the prototype of an object it receives as a parameter.\n",
    "The fundamental prototype is `Object.prototype`, it's own prototype is null. Functions have a `Function.prototype`, and arrays have `Array.prototype`. But they in turn derive from `Object.prototype`.\n",
    "\n",
    "---"
   ]
  },
  {
   "cell_type": "code",
   "execution_count": 2,
   "metadata": {},
   "outputs": [
    {
     "name": "stdout",
     "output_type": "stream",
     "text": [
      "true\n",
      "null\n",
      "true\n",
      "true\n"
     ]
    }
   ],
   "source": [
    "console.log(Object.getPrototypeOf({})==Object.prototype);\n",
    "console.log(Object.getPrototypeOf(Object.prototype));\n",
    "console.log(Object.getPrototypeOf(Function.prototype)==Object.prototype);\n",
    "console.log(Object.getPrototypeOf(Array.prototype)==Object.prototype);"
   ]
  },
  {
   "cell_type": "markdown",
   "metadata": {},
   "source": [
    "## Object.create\n",
    "\n",
    "---\n",
    "\n",
    "`Object.create()` is used to create an object from a specific prototype. \n",
    "\n",
    "---"
   ]
  },
  {
   "cell_type": "code",
   "execution_count": 3,
   "metadata": {},
   "outputs": [
    {
     "name": "stdout",
     "output_type": "stream",
     "text": [
      "meowmeowmeow carnivore { size: 'small', cry: 'meow' }\n",
      "roarroarroar carnivore { size: 'big', cry: 'roar' }\n"
     ]
    }
   ],
   "source": [
    "var felidae_prototype={\n",
    "    diet:'carnivore',\n",
    "    limbs:4,\n",
    "    speak(){\n",
    "        return this.cry.repeat(3);\n",
    "    }\n",
    "}\n",
    "// Create a cat\n",
    "let cat=Object.create(felidae_prototype);\n",
    "cat.size='small';\n",
    "cat.cry='meow';\n",
    "\n",
    "//Create a lion\n",
    "let lion=Object.create(felidae_prototype);\n",
    "lion.size='big';\n",
    "lion.cry='roar';\n",
    "\n",
    "console.log(cat.speak(), cat.diet, cat);\n",
    "console.log(lion.speak(), lion.diet, lion);"
   ]
  },
  {
   "cell_type": "markdown",
   "metadata": {},
   "source": [
    "---\n",
    "\n",
    "Notice the fact that speak was not declared as a property, nor was the function keyword used. This just works.\n",
    "\n",
    "---"
   ]
  },
  {
   "cell_type": "markdown",
   "metadata": {},
   "source": [
    "# Constructor\n",
    "\n",
    "---\n",
    "\n",
    "The job of creating objects based on prototypes, which are interpreted as the more formal, class (prototype), and object as instance of a class, is left to constructors, which are functions, designed for the job. While this can be done by wrapping the three lines of code relevant to the creation of an object inside a function, JS has a more intuitive way built-in. The names of constructors are capitalized, by convention for easy identification. Observe the following example to see how it is done. We use the keyword, `new`.\n",
    "\n",
    "---"
   ]
  },
  {
   "cell_type": "code",
   "execution_count": 6,
   "metadata": {},
   "outputs": [
    {
     "name": "stdout",
     "output_type": "stream",
     "text": [
      "roarroarroar carnivore Felidae { size: 'big', cry: 'roar' }\n"
     ]
    }
   ],
   "source": [
    "function Felidae(size, cry){\n",
    "    this.size=size;\n",
    "    this.cry=cry;\n",
    "}\n",
    "Felidae.prototype.speak=function(){\n",
    "    return this.cry.repeat(3);\n",
    "}\n",
    "Felidae.prototype.limbs=4;\n",
    "Felidae.prototype.diet='carnivore';\n",
    "\n",
    "var panther=new Felidae('big', 'roar');\n",
    "var tiger=new Felidae('big', 'roar');\n",
    "\n",
    "console.log(panther.speak(), panther.diet, panther);"
   ]
  },
  {
   "cell_type": "markdown",
   "metadata": {},
   "source": [
    "---\n",
    "\n",
    "Here we add our properties to the existing empty object bound to `prototype` property of the constructor, which in fact exists in any function, constructor or not. We could also have chosen to replace the empty object with another object, as shown below.\n",
    "\n",
    "---"
   ]
  },
  {
   "cell_type": "code",
   "execution_count": 8,
   "metadata": {},
   "outputs": [
    {
     "data": {
      "text/plain": [
       "{ cry: 'woof', limbs: 4, speak: [Function: speak], diet: 'omnivore' }"
      ]
     },
     "execution_count": 8,
     "metadata": {},
     "output_type": "execute_result"
    }
   ],
   "source": [
    "function Dog(size, intelligence){\n",
    "    this.size=size;\n",
    "    this.intelligence=intelligence;\n",
    "}\n",
    "Dog.prototype={\n",
    "    cry:'woof',\n",
    "    limbs:4,\n",
    "    speak(){\n",
    "        return this.cry.repeat(3);\n",
    "    },\n",
    "    diet:'omnivore'\n",
    "}"
   ]
  },
  {
   "cell_type": "markdown",
   "metadata": {},
   "source": [
    "---\n",
    "\n",
    "# Class\n",
    "\n",
    "---\n",
    "\n",
    "JS introduced a further improvement on how this can be done in 2015, by formally introducing the `class` keyword. The `constructor` keyword will be used to define a constructor inside the `class` declaration.\n",
    "\n",
    "---"
   ]
  },
  {
   "cell_type": "code",
   "execution_count": 12,
   "metadata": {},
   "outputs": [],
   "source": [
    "class Fish{\n",
    "    constructor(name, size, habitat){\n",
    "        this.name=name;\n",
    "        this.size=size;\n",
    "        this.habitat=habitat;\n",
    "        this.canSwim=true;\n",
    "        this.aquatic=true;\n",
    "    }\n",
    "    jump(){\n",
    "        return 'plop... swash';\n",
    "    }\n",
    "}\n",
    "\n",
    "let shark=new Fish('shark', 'big', 'marine');\n",
    "let carp=new Fish('carp', 'small', `fresh`);"
   ]
  },
  {
   "cell_type": "markdown",
   "metadata": {},
   "source": [
    "---\n",
    "\n",
    "Notice that class definition only allow methods to be defined and not non-function properties. This inconvenience can be bypassed as shown, or by directly manipulating the prototype, which can be accessed as the `prototype` property of the constructor.\n",
    "\n",
    "---"
   ]
  },
  {
   "cell_type": "markdown",
   "metadata": {},
   "source": [
    "The whole thing can also be done as follows, although, seeing as how class definition is intended to be used to define multiple instances, and that the following method does not provide a binding, the usability of it is questionable.\n",
    "\n",
    "Also the `class` keyword in the following can be omitted with no consequence.\n",
    "\n",
    "---"
   ]
  },
  {
   "cell_type": "code",
   "execution_count": 13,
   "metadata": {},
   "outputs": [
    {
     "name": "stdout",
     "output_type": "stream",
     "text": [
      "hello\n"
     ]
    }
   ],
   "source": [
    "let object=new class{getWord(){return 'hello';}};\n",
    "console.log(object.getWord());"
   ]
  },
  {
   "cell_type": "markdown",
   "metadata": {},
   "source": [
    "---\n",
    "\n",
    "Properties that exist in prototypes, can be overridden by new additions to an instance. This can be useful to handle exception cases in a set of objects belonging to a certain class. In such a situation, the new addition only overrides the previous property binding in the object on which it was added. The prototype and any other instances remain unchanged.\n",
    "\n",
    "---"
   ]
  }
 ],
 "metadata": {
  "kernelspec": {
   "display_name": "JavaScript (Node.js)",
   "language": "javascript",
   "name": "javascript"
  },
  "language_info": {
   "file_extension": ".js",
   "mimetype": "application/javascript",
   "name": "javascript",
   "version": "20.16.0"
  }
 },
 "nbformat": 4,
 "nbformat_minor": 2
}
