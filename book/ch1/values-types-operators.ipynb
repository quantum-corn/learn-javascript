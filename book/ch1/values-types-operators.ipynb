{
 "cells": [
  {
   "cell_type": "markdown",
   "metadata": {},
   "source": [
    "# Values, Types & Operators\n",
    "\n",
    "---\n",
    "\n",
    " Again, if you have written a couple programs in any programming language, you are good to go. If not:\n",
    " - values are data, pieces of info\n",
    " - values can come in a variety of forms\n",
    "   - numbers : numbers\n",
    "   - strings : a chain of any number of characters; enclosed in double or single quotes\n",
    "   - boolean : either of the two values as it is shown here; might seem like string but it is not\n",
    "     - true\n",
    "     - false\n",
    "     - string true will mean nothhing to the computer more than a chain of 4 characters, but boolean true has an innate meaning, a sense of true, positive, on as opposed to off etc. etc.; it's okay if it is confusing at the moment.\n",
    "   - Infinity, -Infinity\n",
    "   - undefined - values that have no value... well... whatever that means\n",
    "   - null - similar to undefined but not the same\n",
    "   - NaN - Not a Number; peculiar trait: not equal to itself;\n",
    "   - don't worry about the last three\n",
    " - Unary operators, those that act on one value, eg. ++, --\n",
    " - Binary operators, those that act on 2 values, eg. all the basic arithmetic\n",
    "   - There is also a special class of binary operators called logical operators. These work entirely off boolean values, where depending on what operation it is and operand values, you get a boolean value back, a basic google search or GPT conversation will make it clear, but this will need practice which lies in ample amounts ahead. An exception is the not operator or the invert operator which is unary, which inverts the boolean operand it acts on, i.e true to false and vice versa.\n",
    "   - There is another binary operator: ==. This returns true (as in boolean) if the two operands are equal.\n",
    " - Ternary operators, aka conditional operators  are those that act on 3 values, first a boolean, depending on the value of which, the operation returns either of the two other values. Skip if seems too confusing for now.\n",
    " - Remember that the system will try to adjust the typing of involved values so that it can manage a way through whatever the program asks. Sometimes it helps avoid worrying too much about types, sometimes, though, it does unexpected things. Here are some examples of peculiar behaviour.\n",
    "\n",
    "---\n"
   ]
  },
  {
   "cell_type": "code",
   "execution_count": 1,
   "metadata": {},
   "outputs": [
    {
     "name": "stdout",
     "output_type": "stream",
     "text": [
      "5\n",
      "0\n",
      "5\n",
      "-5\n",
      "Infinity\n",
      "0\n",
      "4\n",
      "-4\n",
      "NaN\n",
      "51\n",
      "axe1\n",
      "15\n",
      "NaN\n",
      "NaN\n",
      "true\n",
      "true\n",
      "false\n"
     ]
    }
   ],
   "source": [
    "//operations with null\n",
    "console.log(5+null);\n",
    "console.log(5*null);\n",
    "console.log(5-null);\n",
    "console.log(null-5);\n",
    "console.log(5/null);\n",
    "console.log(null/5);\n",
    "\n",
    "//arithmetic with numeric strings\n",
    "console.log(\"5\"-1);\n",
    "console.log(1-\"5\");\n",
    "console.log('axe'-1);\n",
    "console.log('5'+1);\n",
    "console.log('axe'+1);\n",
    "console.log(1+'5');\n",
    "console.log('axe'*2);\n",
    "console.log('hahaha'/3);\n",
    "console.log(false==0);\n",
    "\n",
    "//null is only equal to undefined and vice versa\n",
    "console.log(null==undefined);\n",
    "console.log(null==0);"
   ]
  },
  {
   "cell_type": "markdown",
   "metadata": {},
   "source": [
    "---\n",
    "\n",
    "This creates need for a stronger test of equality. We have: ===; read: precisely equal to. This tests for an exact match without automatic type adjustment, technically called type coercion.\n",
    "\n",
    "---"
   ]
  },
  {
   "cell_type": "markdown",
   "metadata": {},
   "source": [
    "This leaves us to wonder how logical operators behave if the operands are not boolean. Even if you do not know their expeccted behaviour, you can read ahead as what lies ahead is nothing like their usual 'logical' behaviour.\n",
    "\n",
    "---\n",
    "\n",
    "- || : OR operator return value to the left if it can be converted to boolean true, otherwise the value to the right. (Take this as a suggestion to experiment and see what values can be converted to true) Also note that even though this is not OR operation is defined, with boolean values this logic also produces the correct results.\n",
    "- && : AND operator does the opposite: if the left value is false, it returns that value, otherwise the value to the right.\n",
    "> Due to this behaviour theres a chance the code to the right is never even looked at by the system - a process called **short circuit evaluation**.\n",
    "\n",
    "---\n",
    "---"
   ]
  }
 ],
 "metadata": {
  "kernelspec": {
   "display_name": "JavaScript (Node.js)",
   "language": "javascript",
   "name": "javascript"
  },
  "language_info": {
   "file_extension": ".js",
   "mimetype": "application/javascript",
   "name": "javascript",
   "version": "20.16.0"
  }
 },
 "nbformat": 4,
 "nbformat_minor": 2
}
