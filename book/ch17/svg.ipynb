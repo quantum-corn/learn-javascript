{
 "cells": [
  {
   "cell_type": "markdown",
   "metadata": {
    "tags": [
     "header"
    ]
   },
   "source": [
    "# SVG\n",
    "\n",
    "---\n",
    "\n",
    "SVG can be used to draw SVG images. It needs to be in an HTML file. See the associated 'svg.html' for an example.\n",
    "\n",
    "---"
   ]
  },
  {
   "cell_type": "markdown",
   "metadata": {},
   "source": [
    "In the example `xmlns` attribute, changes an element and it's children to a different XML namespace. The `<circle>` & `<rect>` tags are not strictly HTML valid, but they can be used thanks to the above attribute. Their action is obvious.\n",
    "\n",
    "---"
   ]
  },
  {
   "cell_type": "markdown",
   "metadata": {},
   "source": [
    "The SVG image can then be manipulated from within JS because each tag such as `<circle>` & `<rect>` is a DOM element.\n",
    "\n",
    "---"
   ]
  },
  {
   "cell_type": "code",
   "execution_count": null,
   "metadata": {},
   "outputs": [],
   "source": [
    "let circle = document.querySelector(\"circle\");\n",
    "circle.setAttribute(\"fill\", \"cyan\");"
   ]
  },
  {
   "cell_type": "markdown",
   "metadata": {},
   "source": [
    "Since this is a notebook, the code cannot affect an HTML file. So, I have copied the same in a separate `.js` file.\n",
    "\n",
    "---\n",
    "---"
   ]
  }
 ],
 "metadata": {
  "kernelspec": {
   "display_name": "JavaScript (Node.js)",
   "language": "javascript",
   "name": "javascript"
  },
  "language_info": {
   "name": "javascript"
  }
 },
 "nbformat": 4,
 "nbformat_minor": 2
}
