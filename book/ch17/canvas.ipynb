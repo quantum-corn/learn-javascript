{
 "cells": [
  {
   "cell_type": "markdown",
   "metadata": {},
   "source": [
    "# Canvas\n",
    "\n",
    "---\n",
    "\n",
    "`<canvas>` element, adds a literal canvas in the DOM. It can have `width` & `height` as attributes.\n",
    "\n",
    "TO draw anything there, we need to create a **context**, which is an object whose methods provide the required interface for drawing. Available options include `2d` & `webgl`. In the `canvas.html`, there is a `<canvas>` on which we are going to work. The JS code here won't effect the HTML directly, so I have saved the same in the `canvas.js`. \n",
    "\n",
    "---"
   ]
  },
  {
   "cell_type": "code",
   "execution_count": null,
   "metadata": {},
   "outputs": [],
   "source": [
    "let canvas=document.querySelector(\"canvas\");\n",
    "let context=canvas.getContext(\"2d\");\n",
    "context.fillStyle=\"red\";\n",
    "context.fillRect(10, 10, 100, 50);"
   ]
  },
  {
   "cell_type": "markdown",
   "metadata": {},
   "source": [
    "---\n",
    "\n",
    "In HTML, SVG and canvas, the coordinate system places (0,0) at top left corner, +ve y runs downwards and +ve x runs, rightward. \n",
    "\n",
    "---"
   ]
  },
  {
   "cell_type": "markdown",
   "metadata": {},
   "source": [
    "Available drawing options include the following:\n",
    "- fillRect(x, y, width, height)\n",
    "- strokeRect(x, y, width, height)\n",
    "Any other parameters, such as color, thickness of stroke, etc are controlled by the properties of the stroke object such as:\n",
    "- fillStyle\n",
    "- strokeStyle\n",
    "- lineWidth\n",
    "\n",
    "---"
   ]
  },
  {
   "cell_type": "markdown",
   "metadata": {},
   "source": [
    "The default size of canvas is 300 px wide and 150 px high. \n",
    "\n",
    "---"
   ]
  },
  {
   "cell_type": "markdown",
   "metadata": {},
   "source": [
    "## Path\n",
    "\n",
    "---\n",
    "\n",
    "TO create paths, there is no direct way. Observe the code below.\n",
    "\n",
    "---"
   ]
  },
  {
   "cell_type": "code",
   "execution_count": null,
   "metadata": {},
   "outputs": [],
   "source": [
    "let cx=document.querySelector('canvas').getContext(\"2d\");\n",
    "cx.beginPath();\n",
    "for (let y=10;y<100; y+=10) {\n",
    "    cx.moveTo(10, y);\n",
    "    cx.lineTo(90, y);\n",
    "}\n",
    "cx.stroke();"
   ]
  },
  {
   "cell_type": "markdown",
   "metadata": {},
   "source": [
    "---\n",
    "\n",
    "\n",
    "\n",
    "---"
   ]
  },
  {
   "cell_type": "code",
   "execution_count": null,
   "metadata": {},
   "outputs": [],
   "source": [
    "let cx=document.querySelector('canvas').getContext(\"2d\");\n",
    "cx.beginPath();\n",
    "cx.moveTo(50, 10);\n",
    "cx.lineTo(10, 70);\n",
    "cx.lineTo(90, 70);\n",
    "cx.fill();"
   ]
  },
  {
   "cell_type": "markdown",
   "metadata": {},
   "source": [
    "---\n",
    "---"
   ]
  }
 ],
 "metadata": {
  "kernelspec": {
   "display_name": "JavaScript (Node.js)",
   "language": "javascript",
   "name": "javascript"
  },
  "language_info": {
   "name": "javascript"
  }
 },
 "nbformat": 4,
 "nbformat_minor": 2
}
