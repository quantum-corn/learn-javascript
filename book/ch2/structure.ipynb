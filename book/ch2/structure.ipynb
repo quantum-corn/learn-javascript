{
 "cells": [
  {
   "cell_type": "markdown",
   "metadata": {},
   "source": [
    "# Structure\n",
    "\n",
    "---\n",
    "\n",
    "Again, very elementary to programming. You likely already know this. If not engage in a GPT conversation about the following in the context of programming.\n",
    "- Variables\n",
    "- Conditionals\n",
    "- Loops\n",
    "- Functions\n",
    "- Switch Case\n",
    "\n",
    "---"
   ]
  },
  {
   "cell_type": "markdown",
   "metadata": {},
   "source": [
    "## Hoisting\n",
    "\n",
    "---\n",
    "\n",
    "There are three ways to declare functions in JS. One is declarative and two are expression types. Expression types are not hoisted. It is good havit to use them to ensure you never use a function before it is defined.\n",
    "\n",
    "---\n",
    "---"
   ]
  }
 ],
 "metadata": {
  "kernelspec": {
   "display_name": "JavaScript (Node.js)",
   "language": "javascript",
   "name": "javascript"
  },
  "language_info": {
   "file_extension": ".js",
   "mimetype": "application/javascript",
   "name": "javascript",
   "version": "20.16.0"
  }
 },
 "nbformat": 4,
 "nbformat_minor": 2
}
