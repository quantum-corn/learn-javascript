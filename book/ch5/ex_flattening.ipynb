{
 "cells": [
  {
   "cell_type": "code",
   "execution_count": 3,
   "metadata": {},
   "outputs": [
    {
     "name": "stdout",
     "output_type": "stream",
     "text": [
      "[\n",
      "  1, 2, 3, 4, 5,\n",
      "  6, 7, 8, 9\n",
      "]\n"
     ]
    }
   ],
   "source": [
    "var arr = [[1, 2, 3], [4, 5, 6], [7, 8, 9]];\n",
    "console.log(arr.reduce((f, r)=>f=f.concat(r)));"
   ]
  }
 ],
 "metadata": {
  "kernelspec": {
   "display_name": "JavaScript (Node.js)",
   "language": "javascript",
   "name": "javascript"
  },
  "language_info": {
   "file_extension": ".js",
   "mimetype": "application/javascript",
   "name": "javascript",
   "version": "20.16.0"
  }
 },
 "nbformat": 4,
 "nbformat_minor": 2
}
