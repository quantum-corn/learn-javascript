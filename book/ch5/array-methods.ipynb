{
 "cells": [
  {
   "cell_type": "markdown",
   "metadata": {},
   "source": [
    "# Array methods\n",
    "\n",
    "---\n",
    "\n",
    "JS array interface provides a bunch of useful built-in features.\n",
    "\n",
    "---"
   ]
  },
  {
   "cell_type": "markdown",
   "metadata": {},
   "source": [
    "## `forEach()`\n",
    "\n",
    "---\n",
    "\n",
    "A `for - of` loop as a method that takes a function as a parameter.\n",
    "\n",
    "---"
   ]
  },
  {
   "cell_type": "code",
   "execution_count": null,
   "metadata": {},
   "outputs": [
    {
     "name": "stdout",
     "output_type": "stream",
     "text": [
      "[ 1, 4, 9, 16, 25 ]\n"
     ]
    }
   ],
   "source": [
    "var squares=[];\n",
    "[1, 2, 3, 4, 5].forEach(i=>squares.push(i*i));\n",
    "console.log(squares);"
   ]
  },
  {
   "cell_type": "markdown",
   "metadata": {},
   "source": [
    "## `filter()`\n",
    "\n",
    "---\n",
    "\n",
    "Used to filter the contents of an array. See example.\n",
    "\n",
    "---"
   ]
  },
  {
   "cell_type": "code",
   "execution_count": null,
   "metadata": {},
   "outputs": [
    {
     "name": "stdout",
     "output_type": "stream",
     "text": [
      "[ 54, 85, 74, 98 ]\n"
     ]
    }
   ],
   "source": [
    "var g45= [10, 54, 2, 01, 85, 36, 74, 98, 24].filter(i=>i>45);\n",
    "console.log(g45);"
   ]
  },
  {
   "cell_type": "markdown",
   "metadata": {},
   "source": [
    "## `map()`\n",
    "\n",
    "---\n",
    "\n",
    "Used to transform an array according to a function.\n",
    "\n",
    "---"
   ]
  },
  {
   "cell_type": "code",
   "execution_count": 1,
   "metadata": {},
   "outputs": [
    {
     "name": "stdout",
     "output_type": "stream",
     "text": [
      "[ 1, 4, 9, 16, 25 ]\n"
     ]
    }
   ],
   "source": [
    "var squares = [1, 2, 3, 4, 5].map(i=>i*i);\n",
    "console.log(squares);"
   ]
  },
  {
   "cell_type": "markdown",
   "metadata": {},
   "source": [
    "## `reduce()`\n",
    "\n",
    "---\n",
    "\n",
    "As with previous cases, this takes a function. What this method does is that it also takes a start (which may be skipped with non empty arrays, in which case the first element is treated as the start), and combines it with the first element of the array, (using the definition of the function provided, which is supposed to produce a number from the two numbers it receives as parameters), then, comines the second element to the previous combination and so on...\n",
    "\n",
    "---"
   ]
  },
  {
   "cell_type": "code",
   "execution_count": 3,
   "metadata": {},
   "outputs": [
    {
     "name": "stdout",
     "output_type": "stream",
     "text": [
      "40\n"
     ]
    }
   ],
   "source": [
    "var productbythird=[1, 2, 3, 4, 5].reduce((a, b)=>a*b, 1/3);\n",
    "console.log(productbythird);"
   ]
  },
  {
   "cell_type": "markdown",
   "metadata": {},
   "source": [
    "---\n",
    "---"
   ]
  }
 ],
 "metadata": {
  "kernelspec": {
   "display_name": "JavaScript (Node.js)",
   "language": "javascript",
   "name": "javascript"
  },
  "language_info": {
   "file_extension": ".js",
   "mimetype": "application/javascript",
   "name": "javascript",
   "version": "20.16.0"
  }
 },
 "nbformat": 4,
 "nbformat_minor": 2
}
