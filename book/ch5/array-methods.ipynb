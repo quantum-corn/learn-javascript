{
 "cells": [
  {
   "cell_type": "markdown",
   "metadata": {},
   "source": [
    "# Array methods\n",
    "\n",
    "---\n",
    "\n",
    "JS array interface provides a bunch of useful built-in features.\n",
    "\n",
    "---"
   ]
  },
  {
   "cell_type": "markdown",
   "metadata": {},
   "source": [
    "## `forEach()`\n",
    "\n",
    "---\n",
    "\n",
    "A `for - of` loop as a method that takes a function as a parameter.\n",
    "\n",
    "---"
   ]
  },
  {
   "cell_type": "code",
   "execution_count": null,
   "metadata": {},
   "outputs": [
    {
     "name": "stdout",
     "output_type": "stream",
     "text": [
      "[ 1, 4, 9, 16, 25 ]\n"
     ]
    }
   ],
   "source": [
    "var squares=[];\n",
    "[1, 2, 3, 4, 5].forEach(i=>squares.push(i*i));\n",
    "console.log(squares);"
   ]
  },
  {
   "cell_type": "markdown",
   "metadata": {},
   "source": [
    "## `filter()`\n",
    "\n",
    "---\n",
    "\n",
    "Used to filter the contents of an array. See example.\n",
    "\n",
    "---"
   ]
  },
  {
   "cell_type": "code",
   "execution_count": null,
   "metadata": {},
   "outputs": [
    {
     "name": "stdout",
     "output_type": "stream",
     "text": [
      "[ 54, 85, 74, 98 ]\n"
     ]
    }
   ],
   "source": [
    "var g45= [10, 54, 2, 01, 85, 36, 74, 98, 24].filter(i=>i>45);\n",
    "console.log(g45);"
   ]
  },
  {
   "cell_type": "markdown",
   "metadata": {},
   "source": [
    "## `map()`\n",
    "\n",
    "---\n",
    "\n",
    "Used to transform an array according to a function.\n",
    "\n",
    "---"
   ]
  },
  {
   "cell_type": "code",
   "execution_count": 1,
   "metadata": {},
   "outputs": [
    {
     "name": "stdout",
     "output_type": "stream",
     "text": [
      "[ 1, 4, 9, 16, 25 ]\n"
     ]
    }
   ],
   "source": [
    "var squares = [1, 2, 3, 4, 5].map(i=>i*i);\n",
    "console.log(squares);"
   ]
  },
  {
   "cell_type": "markdown",
   "metadata": {},
   "source": [
    "## `reduce()`\n",
    "\n",
    "---\n",
    "\n",
    "As with previous cases, this takes a function. What this method does is that it also takes a start (which may be skipped with non empty arrays, in which case the first element is treated as the start), and combines it with the first element of the array, (using the definition of the function provided, which is supposed to produce a value from the two values it receives as parameters), then, comines the second element to the previous combination and so on...\n",
    "\n",
    "---"
   ]
  },
  {
   "cell_type": "code",
   "execution_count": 3,
   "metadata": {},
   "outputs": [
    {
     "name": "stdout",
     "output_type": "stream",
     "text": [
      "40\n"
     ]
    }
   ],
   "source": [
    "var productbythird=[1, 2, 3, 4, 5].reduce((a, b)=>a*b, 1/3);\n",
    "console.log(productbythird);"
   ]
  },
  {
   "cell_type": "markdown",
   "metadata": {},
   "source": [
    "## `some()`\n",
    "\n",
    "---\n",
    "\n",
    "Takes a test function and returns true if at least one element returns true for the test.\n",
    "\n",
    "---"
   ]
  },
  {
   "cell_type": "code",
   "execution_count": 6,
   "metadata": {},
   "outputs": [
    {
     "name": "stdout",
     "output_type": "stream",
     "text": [
      "Your password validity is false\n"
     ]
    }
   ],
   "source": [
    "password=['D', 6, '!', 'M', ' ', 'z', '(', 2, 3, 7, 5, ')'];\n",
    "var isPasswordBad=password.some(i=>i!=' ');\n",
    "console.log('Your password validity is', !isPasswordBad);"
   ]
  },
  {
   "cell_type": "markdown",
   "metadata": {},
   "source": [
    "# `every()`\n",
    "\n",
    "---\n",
    "\n",
    "Similar to `some()`, but true only if every element qualifies the test.\n",
    "\n",
    "---"
   ]
  },
  {
   "cell_type": "markdown",
   "metadata": {},
   "source": [
    "## `findIndex()`\n",
    "\n",
    "---\n",
    "\n",
    "Similar to `indexOf()`, but instead of looking fo r a specific value, it finds the first value for which the given function returns true. Both return -1 when no such element is found.\n",
    "\n",
    "---"
   ]
  },
  {
   "cell_type": "code",
   "execution_count": 5,
   "metadata": {},
   "outputs": [
    {
     "name": "stdout",
     "output_type": "stream",
     "text": [
      "[ 25, 75, 2, 36 ]\n"
     ]
    }
   ],
   "source": [
    "var percent=[25, 75, -5, 102, 142, -5, 02, 36];\n",
    "var cleanPercent=function(arr){\n",
    "    var arrcopy=arr;\n",
    "    var garbageFound=true;\n",
    "    var garbage;\n",
    "    while(garbageFound){\n",
    "        garbage=arrcopy.findIndex(i=>i>100||i<0);\n",
    "        if(garbage==-1) garbageFound=false;\n",
    "        else arrcopy.splice(garbage, 1);\n",
    "    }\n",
    "    return arrcopy;\n",
    "}\n",
    "\n",
    "console.log(cleanPercent(percent));"
   ]
  },
  {
   "cell_type": "markdown",
   "metadata": {},
   "source": [
    "---\n",
    "---"
   ]
  }
 ],
 "metadata": {
  "kernelspec": {
   "display_name": "JavaScript (Node.js)",
   "language": "javascript",
   "name": "javascript"
  },
  "language_info": {
   "file_extension": ".js",
   "mimetype": "application/javascript",
   "name": "javascript",
   "version": "20.16.0"
  }
 },
 "nbformat": 4,
 "nbformat_minor": 2
}
