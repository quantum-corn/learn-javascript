{
 "cells": [
  {
   "cell_type": "markdown",
   "metadata": {},
   "source": [
    "# Introduction\n",
    "\n",
    "---\n",
    "\n",
    "All we cover here is the basic idea of programming. Ideally everything you see in any decent programming text before you write the 'Hello World!' code. If you have even tried programming before, and have an understanding howver basic, you're done. If not, though, just talk to any AI chatbot like GPT. Start wiht asking something like 'What is programming?'. It might also help to ask, 'What is JavaScript?'.\n",
    "\n",
    "---\n",
    "---"
   ]
  }
 ],
 "metadata": {
  "language_info": {
   "name": "python"
  }
 },
 "nbformat": 4,
 "nbformat_minor": 2
}
