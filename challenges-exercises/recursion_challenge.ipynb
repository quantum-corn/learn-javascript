{
 "cells": [
  {
   "cell_type": "markdown",
   "metadata": {},
   "source": [
    "**Recursion challenge**\n",
    "\n",
    "---\n",
    "\n",
    "From:\n",
    "https://www.joelonsoftware.com/2005/12/29/test-yourself/\n",
    "\n",
    "The problem statement:\n",
    "\n",
    "> Using the function\n",
    "> \n",
    "> ```javascript\n",
    "> function accumulate(combiner, nullValue, l)\n",
    "> {\n",
    "> \tif (l.length == 0)\n",
    "> \t\treturn nullValue;\n",
    "> \tvar first = l.shift();\n",
    "> \treturn combiner(first, accumulate(combiner, nullValue, l));\n",
    "> }\n",
    "> ```\n",
    "> \n",
    "> Implement sumOfSquares, which calculates the sum of squares of a list, for example\n",
    "> \n",
    "> `sumOfSquares([1,2,3,4,5])`\n",
    "> \n",
    "> should evaluate to 55."
   ]
  },
  {
   "cell_type": "markdown",
   "metadata": {},
   "source": [
    "<details>\n",
    "    <summary>Click to see the solution</summary>\n",
    "    \n",
    "    ```javascript\n",
    "    function sumOfSquares(arr){\n",
    "    return accumulate((i, fun)=>i*i+fun, 0, arr)\n",
    "    }\n",
    "    ```\n",
    "    \n",
    "</details>"
   ]
  }
 ],
 "metadata": {
  "language_info": {
   "name": "python"
  }
 },
 "nbformat": 4,
 "nbformat_minor": 2
}
